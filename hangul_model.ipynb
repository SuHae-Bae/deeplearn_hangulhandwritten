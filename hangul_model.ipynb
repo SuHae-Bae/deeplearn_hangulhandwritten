{
 "cells": [
  {
   "cell_type": "code",
   "execution_count": null,
   "metadata": {
    "colab": {},
    "colab_type": "code",
    "id": "HE4dkWIhkAg8"
   },
   "outputs": [],
   "source": [
    "import numpy as np"
   ]
  },
  {
   "cell_type": "code",
   "execution_count": null,
   "metadata": {
    "colab": {},
    "colab_type": "code",
    "id": "3mLJr9gOj16u"
   },
   "outputs": [],
   "source": [
    "X = np.load('./train_data.npy')"
   ]
  },
  {
   "cell_type": "code",
   "execution_count": null,
   "metadata": {
    "colab": {},
    "colab_type": "code",
    "id": "0YkCam2WkFPm"
   },
   "outputs": [],
   "source": [
    "y = np.load('./train_label.npy')"
   ]
  },
  {
   "cell_type": "code",
   "execution_count": null,
   "metadata": {
    "colab": {
     "base_uri": "https://localhost:8080/",
     "height": 180
    },
    "colab_type": "code",
    "id": "86pJdGeOdu4B",
    "outputId": "c9850919-9613-4853-b116-a123ef532275"
   },
   "outputs": [
    {
     "name": "stdout",
     "output_type": "stream",
     "text": [
      "X_data: (20480, 64, 64, 3)\n",
      "y_labels: (20480,)\n",
      "\n",
      "X_train: (13107, 64, 64, 3)\n",
      "X_val: (3277, 64, 64, 3)\n",
      "X_test: (4096, 64, 64, 3)\n",
      "y_train: (13107,)\n",
      "y_val: (3277,)\n",
      "y_test: (4096,)\n"
     ]
    }
   ],
   "source": [
    "## 1-5. 20,480 개의 데이터 훈련셋/검증셋/테스트셋 으로 나누기(비율 : r)\n",
    "## 1-5. Divide by 20,480 data training set/verification/test sets(ratios: r)\n",
    "\n",
    "# import numpy as np\n",
    "from sklearn.model_selection import train_test_split\n",
    "\n",
    "r = 0.20\n",
    "# X = np.array(X_data)\n",
    "# y = np.array(labels)\n",
    "\n",
    "X_train, X_test, y_train, y_test = train_test_split(X, y, test_size = r)\n",
    "\n",
    "X_train, X_val, y_train, y_val = train_test_split(X_train, y_train, test_size = r)\n",
    "print(\"X_data:\", X.shape)\n",
    "print(\"y_labels:\", y.shape)\n",
    "print(\"\\nX_train:\", X_train.shape)\n",
    "print(\"X_val:\", X_val.shape)\n",
    "print(\"X_test:\", X_test.shape)\n",
    "print(\"y_train:\", y_train.shape)\n",
    "print(\"y_val:\", y_val.shape)\n",
    "print(\"y_test:\", y_test.shape)"
   ]
  },
  {
   "cell_type": "code",
   "execution_count": null,
   "metadata": {
    "colab": {
     "base_uri": "https://localhost:8080/",
     "height": 35
    },
    "colab_type": "code",
    "id": "TPPCyMO2ll7O",
    "outputId": "f61a388d-f05a-4a55-ba53-d3861152dc34"
   },
   "outputs": [
    {
     "name": "stderr",
     "output_type": "stream",
     "text": [
      "Using TensorFlow backend.\n"
     ]
    }
   ],
   "source": [
    "## 2-1. Keras 모델 생성 및 훈련\n",
    "## 2-1. Keras model initialization and training\n",
    "\n",
    "import keras\n",
    "import keras.utils as utils\n",
    "\n",
    "from keras import backend as K\n",
    "import tensorflow.keras as keras\n",
    "from tensorflow.keras.preprocessing.image import ImageDataGenerator\n",
    "from tensorflow.keras.models import Sequential\n",
    "from tensorflow.keras.layers import Activation, Dense, Flatten\n",
    "from tensorflow.keras.layers import Conv2D, MaxPooling2D, Dropout, ReLU\n",
    "from tensorflow.keras.layers import BatchNormalization\n",
    "import numpy as np\n",
    "import os\n",
    "import sys\n",
    "from six.moves import cPickle\n",
    "import matplotlib.pyplot as plt"
   ]
  },
  {
   "cell_type": "code",
   "execution_count": null,
   "metadata": {
    "colab": {},
    "colab_type": "code",
    "id": "IZYIfMNplwR3"
   },
   "outputs": [],
   "source": [
    "# 64*64의 이미지\n",
    "batch_size = 64\n",
    "epochs = 100\n",
    "\n",
    "# 512개의 음절\n",
    "num_classes = 512"
   ]
  },
  {
   "cell_type": "code",
   "execution_count": null,
   "metadata": {
    "colab": {},
    "colab_type": "code",
    "id": "JpLcFXXAl4tY"
   },
   "outputs": [],
   "source": [
    "y_train = utils.to_categorical(y_train, num_classes)\n",
    "y_val = utils.to_categorical(y_val, num_classes)\n",
    "y_test = utils.to_categorical(y_test, num_classes)"
   ]
  },
  {
   "cell_type": "code",
   "execution_count": null,
   "metadata": {
    "colab": {},
    "colab_type": "code",
    "id": "4H0me5YNmKUQ"
   },
   "outputs": [],
   "source": [
    "X_train = X_train.astype('float32')\n",
    "X_train /= 255\n",
    "X_val = X_val.astype('float32')\n",
    "X_val /= 255\n",
    "X_test = X_test.astype('float32')\n",
    "X_test /= 255"
   ]
  },
  {
   "cell_type": "code",
   "execution_count": null,
   "metadata": {
    "colab": {},
    "colab_type": "code",
    "id": "qZmWfKeanMAk"
   },
   "outputs": [],
   "source": [
    "datagen = ImageDataGenerator(\n",
    "        rotation_range=20,\n",
    "        height_shift_range=0.2,\n",
    "        width_shift_range=0.2,\n",
    "        horizontal_flip=True,\n",
    "        vertical_flip=True)"
   ]
  },
  {
   "cell_type": "code",
   "execution_count": null,
   "metadata": {
    "colab": {},
    "colab_type": "code",
    "id": "QpDfYETInTbs"
   },
   "outputs": [],
   "source": [
    "datagen.fit(X_train)"
   ]
  },
  {
   "cell_type": "code",
   "execution_count": null,
   "metadata": {
    "colab": {},
    "colab_type": "code",
    "id": "aHv1VS3RnWAN"
   },
   "outputs": [],
   "source": [
    "# 논문을 찾아봤는데\n",
    "# > CONV/FC -> BatchNorm -> ReLu(or other activation) -> Dropout -> CONV/FC -> ....\n",
    "# 순서로 진행하는게 좋다고 나와서 이대로 해봤음\n",
    "# https://arxiv.org/pdf/1502.03167.pdf\n",
    "# https://stackoverflow.com/questions/39691902/ordering-of-batch-normalization-and-dropout\n",
    "\n",
    "model = Sequential()\n",
    "model.add(Conv2D(64, (3, 3), padding='same',\n",
    "                 input_shape=X_train.shape[1:]))\n",
    "model.add(BatchNormalization())\n",
    "model.add(Conv2D(64, (5, 5), padding='same'))\n",
    "model.add(BatchNormalization())\n",
    "model.add(Activation('relu'))\n",
    "model.add(Dropout(0.2))\n",
    "model.add(Conv2D(128, (3, 3), padding='same'))\n",
    "model.add(MaxPooling2D((2, 2)))\n",
    "model.add(BatchNormalization())\n",
    "model.add(Activation('relu'))\n",
    "model.add(Dropout(0.2))\n",
    "model.add(Flatten())\n",
    "model.add(Dense(512))\n",
    "model.add(Dense(512, activation='softmax'))"
   ]
  },
  {
   "cell_type": "code",
   "execution_count": null,
   "metadata": {
    "colab": {
     "base_uri": "https://localhost:8080/",
     "height": 669
    },
    "colab_type": "code",
    "id": "02quQPbVqp5c",
    "outputId": "4f11e4fd-3cae-4c9a-c996-66de04a4f5b1"
   },
   "outputs": [
    {
     "name": "stdout",
     "output_type": "stream",
     "text": [
      "Model: \"sequential\"\n",
      "_________________________________________________________________\n",
      "Layer (type)                 Output Shape              Param #   \n",
      "=================================================================\n",
      "conv2d (Conv2D)              (None, 64, 64, 64)        1792      \n",
      "_________________________________________________________________\n",
      "batch_normalization (BatchNo (None, 64, 64, 64)        256       \n",
      "_________________________________________________________________\n",
      "conv2d_1 (Conv2D)            (None, 64, 64, 64)        102464    \n",
      "_________________________________________________________________\n",
      "batch_normalization_1 (Batch (None, 64, 64, 64)        256       \n",
      "_________________________________________________________________\n",
      "activation (Activation)      (None, 64, 64, 64)        0         \n",
      "_________________________________________________________________\n",
      "dropout (Dropout)            (None, 64, 64, 64)        0         \n",
      "_________________________________________________________________\n",
      "conv2d_2 (Conv2D)            (None, 64, 64, 128)       73856     \n",
      "_________________________________________________________________\n",
      "max_pooling2d (MaxPooling2D) (None, 32, 32, 128)       0         \n",
      "_________________________________________________________________\n",
      "batch_normalization_2 (Batch (None, 32, 32, 128)       512       \n",
      "_________________________________________________________________\n",
      "activation_1 (Activation)    (None, 32, 32, 128)       0         \n",
      "_________________________________________________________________\n",
      "dropout_1 (Dropout)          (None, 32, 32, 128)       0         \n",
      "_________________________________________________________________\n",
      "flatten (Flatten)            (None, 131072)            0         \n",
      "_________________________________________________________________\n",
      "dense (Dense)                (None, 512)               67109376  \n",
      "_________________________________________________________________\n",
      "dense_1 (Dense)              (None, 512)               262656    \n",
      "=================================================================\n",
      "Total params: 67,551,168\n",
      "Trainable params: 67,550,656\n",
      "Non-trainable params: 512\n",
      "_________________________________________________________________\n"
     ]
    }
   ],
   "source": [
    "model.summary()"
   ]
  },
  {
   "cell_type": "code",
   "execution_count": null,
   "metadata": {
    "colab": {},
    "colab_type": "code",
    "id": "oNomy9ArsQ7N"
   },
   "outputs": [],
   "source": [
    "opt = keras.optimizers.RMSprop(lr=0.001, decay=0.0)"
   ]
  },
  {
   "cell_type": "code",
   "execution_count": null,
   "metadata": {
    "colab": {},
    "colab_type": "code",
    "id": "9hFUB-kPtigz"
   },
   "outputs": [],
   "source": [
    "model.compile(loss='categorical_crossentropy',\n",
    "              optimizer=opt,\n",
    "              metrics=['accuracy'])"
   ]
  },
  {
   "cell_type": "code",
   "execution_count": null,
   "metadata": {
    "colab": {
     "base_uri": "https://localhost:8080/",
     "height": 1000
    },
    "colab_type": "code",
    "id": "fmWTRfaHtvA0",
    "outputId": "4474fd52-b760-4b78-fe74-6775baa16064"
   },
   "outputs": [
    {
     "name": "stdout",
     "output_type": "stream",
     "text": [
      "Epoch 1/100\n",
      "205/204 [==============================] - 42s 207ms/step - loss: 68.3058 - accuracy: 0.0024 - val_loss: 6.2383 - val_accuracy: 0.0027\n",
      "Epoch 2/100\n",
      "205/204 [==============================] - 40s 197ms/step - loss: 6.1077 - accuracy: 0.0043 - val_loss: 6.1049 - val_accuracy: 0.0043\n",
      "Epoch 3/100\n",
      "205/204 [==============================] - 41s 198ms/step - loss: 5.8229 - accuracy: 0.0131 - val_loss: 5.5300 - val_accuracy: 0.0247\n",
      "Epoch 4/100\n",
      "205/204 [==============================] - 40s 197ms/step - loss: 5.4828 - accuracy: 0.0224 - val_loss: 5.1402 - val_accuracy: 0.0351\n",
      "Epoch 5/100\n",
      "205/204 [==============================] - 41s 198ms/step - loss: 5.1691 - accuracy: 0.0409 - val_loss: 4.8985 - val_accuracy: 0.0555\n",
      "Epoch 6/100\n",
      "205/204 [==============================] - 41s 198ms/step - loss: 4.8349 - accuracy: 0.0596 - val_loss: 4.3174 - val_accuracy: 0.1086\n",
      "Epoch 7/100\n",
      "205/204 [==============================] - 41s 198ms/step - loss: 4.5179 - accuracy: 0.0954 - val_loss: 4.0934 - val_accuracy: 0.1309\n",
      "Epoch 8/100\n",
      "205/204 [==============================] - 41s 198ms/step - loss: 4.3111 - accuracy: 0.1117 - val_loss: 3.8505 - val_accuracy: 0.1434\n",
      "Epoch 9/100\n",
      "205/204 [==============================] - 41s 198ms/step - loss: 4.0566 - accuracy: 0.1408 - val_loss: 3.6261 - val_accuracy: 0.1816\n",
      "Epoch 10/100\n",
      "205/204 [==============================] - 41s 198ms/step - loss: 3.8873 - accuracy: 0.1543 - val_loss: 3.4290 - val_accuracy: 0.1987\n",
      "Epoch 11/100\n",
      "205/204 [==============================] - 41s 198ms/step - loss: 3.6861 - accuracy: 0.1840 - val_loss: 3.2122 - val_accuracy: 0.2371\n",
      "Epoch 12/100\n",
      "205/204 [==============================] - 41s 198ms/step - loss: 3.5052 - accuracy: 0.2081 - val_loss: 3.2614 - val_accuracy: 0.2099\n",
      "Epoch 13/100\n",
      "205/204 [==============================] - 41s 198ms/step - loss: 3.3381 - accuracy: 0.2313 - val_loss: 2.9390 - val_accuracy: 0.2838\n",
      "Epoch 14/100\n",
      "205/204 [==============================] - 40s 197ms/step - loss: 3.1779 - accuracy: 0.2549 - val_loss: 2.7678 - val_accuracy: 0.3158\n",
      "Epoch 15/100\n",
      "205/204 [==============================] - 41s 198ms/step - loss: 3.0672 - accuracy: 0.2734 - val_loss: 2.5984 - val_accuracy: 0.3317\n",
      "Epoch 16/100\n",
      "205/204 [==============================] - 41s 198ms/step - loss: 2.9145 - accuracy: 0.3008 - val_loss: 2.4344 - val_accuracy: 0.3763\n",
      "Epoch 17/100\n",
      "205/204 [==============================] - 41s 198ms/step - loss: 2.7996 - accuracy: 0.3162 - val_loss: 2.3939 - val_accuracy: 0.3799\n",
      "Epoch 18/100\n",
      "205/204 [==============================] - 41s 198ms/step - loss: 2.7184 - accuracy: 0.3305 - val_loss: 2.4025 - val_accuracy: 0.3631\n",
      "Epoch 19/100\n",
      "205/204 [==============================] - 41s 198ms/step - loss: 2.6025 - accuracy: 0.3553 - val_loss: 2.2254 - val_accuracy: 0.4010\n",
      "Epoch 20/100\n",
      "205/204 [==============================] - 41s 198ms/step - loss: 2.5431 - accuracy: 0.3584 - val_loss: 2.1336 - val_accuracy: 0.4254\n",
      "Epoch 21/100\n",
      "205/204 [==============================] - 41s 198ms/step - loss: 2.4706 - accuracy: 0.3752 - val_loss: 1.9637 - val_accuracy: 0.4629\n",
      "Epoch 22/100\n",
      "205/204 [==============================] - 41s 198ms/step - loss: 2.3923 - accuracy: 0.3927 - val_loss: 2.1089 - val_accuracy: 0.4178\n",
      "Epoch 23/100\n",
      "205/204 [==============================] - 41s 198ms/step - loss: 2.3282 - accuracy: 0.4081 - val_loss: 1.9568 - val_accuracy: 0.4715\n",
      "Epoch 24/100\n",
      "205/204 [==============================] - 41s 198ms/step - loss: 2.2633 - accuracy: 0.4216 - val_loss: 2.0639 - val_accuracy: 0.4385\n",
      "Epoch 25/100\n",
      "205/204 [==============================] - 41s 198ms/step - loss: 2.1947 - accuracy: 0.4347 - val_loss: 1.7819 - val_accuracy: 0.5056\n",
      "Epoch 26/100\n",
      "205/204 [==============================] - 41s 198ms/step - loss: 2.1376 - accuracy: 0.4456 - val_loss: 1.7987 - val_accuracy: 0.5127\n",
      "Epoch 27/100\n",
      "205/204 [==============================] - 41s 198ms/step - loss: 2.1001 - accuracy: 0.4536 - val_loss: 1.9130 - val_accuracy: 0.4608\n",
      "Epoch 28/100\n",
      "205/204 [==============================] - 41s 198ms/step - loss: 2.0654 - accuracy: 0.4633 - val_loss: 1.6685 - val_accuracy: 0.5258\n",
      "Epoch 29/100\n",
      "205/204 [==============================] - 40s 197ms/step - loss: 2.0405 - accuracy: 0.4679 - val_loss: 1.7890 - val_accuracy: 0.5136\n",
      "Epoch 30/100\n",
      "205/204 [==============================] - 41s 198ms/step - loss: 1.9812 - accuracy: 0.4810 - val_loss: 1.6159 - val_accuracy: 0.5410\n",
      "Epoch 31/100\n",
      "205/204 [==============================] - 41s 198ms/step - loss: 1.9483 - accuracy: 0.4840 - val_loss: 1.7109 - val_accuracy: 0.5157\n",
      "Epoch 32/100\n",
      "205/204 [==============================] - 41s 198ms/step - loss: 1.9135 - accuracy: 0.4966 - val_loss: 1.4104 - val_accuracy: 0.6042\n",
      "Epoch 33/100\n",
      "205/204 [==============================] - 41s 198ms/step - loss: 1.8931 - accuracy: 0.5000 - val_loss: 1.6573 - val_accuracy: 0.5230\n",
      "Epoch 34/100\n",
      "205/204 [==============================] - 41s 198ms/step - loss: 1.8659 - accuracy: 0.5108 - val_loss: 1.5507 - val_accuracy: 0.5539\n",
      "Epoch 35/100\n",
      "205/204 [==============================] - 40s 198ms/step - loss: 1.8371 - accuracy: 0.5111 - val_loss: 1.4772 - val_accuracy: 0.5890\n",
      "Epoch 36/100\n",
      "205/204 [==============================] - 40s 198ms/step - loss: 1.7940 - accuracy: 0.5162 - val_loss: 1.3553 - val_accuracy: 0.6149\n",
      "Epoch 37/100\n",
      "205/204 [==============================] - 40s 197ms/step - loss: 1.7964 - accuracy: 0.5203 - val_loss: 1.4288 - val_accuracy: 0.6036\n",
      "Epoch 38/100\n",
      "205/204 [==============================] - 41s 198ms/step - loss: 1.7588 - accuracy: 0.5243 - val_loss: 1.4952 - val_accuracy: 0.5880\n",
      "Epoch 39/100\n",
      "205/204 [==============================] - 41s 198ms/step - loss: 1.7470 - accuracy: 0.5330 - val_loss: 1.3918 - val_accuracy: 0.6085\n",
      "Epoch 40/100\n",
      "205/204 [==============================] - 41s 198ms/step - loss: 1.7262 - accuracy: 0.5352 - val_loss: 1.4758 - val_accuracy: 0.5847\n",
      "Epoch 41/100\n",
      "205/204 [==============================] - 41s 198ms/step - loss: 1.6758 - accuracy: 0.5470 - val_loss: 1.5742 - val_accuracy: 0.5508\n",
      "Epoch 42/100\n",
      "205/204 [==============================] - 41s 198ms/step - loss: 1.6868 - accuracy: 0.5464 - val_loss: 1.4497 - val_accuracy: 0.5938\n",
      "Epoch 43/100\n",
      "205/204 [==============================] - 41s 198ms/step - loss: 1.6912 - accuracy: 0.5412 - val_loss: 1.3469 - val_accuracy: 0.6176\n",
      "Epoch 44/100\n",
      "205/204 [==============================] - 41s 198ms/step - loss: 1.6361 - accuracy: 0.5550 - val_loss: 1.5010 - val_accuracy: 0.5682\n",
      "Epoch 45/100\n",
      "205/204 [==============================] - 41s 198ms/step - loss: 1.6323 - accuracy: 0.5641 - val_loss: 1.3592 - val_accuracy: 0.6146\n",
      "Epoch 46/100\n",
      "205/204 [==============================] - 41s 198ms/step - loss: 1.6061 - accuracy: 0.5631 - val_loss: 1.3569 - val_accuracy: 0.6063\n",
      "Epoch 47/100\n",
      "205/204 [==============================] - 41s 199ms/step - loss: 1.5805 - accuracy: 0.5693 - val_loss: 1.3143 - val_accuracy: 0.6140\n",
      "Epoch 48/100\n",
      "205/204 [==============================] - 41s 199ms/step - loss: 1.5710 - accuracy: 0.5747 - val_loss: 1.2527 - val_accuracy: 0.6424\n",
      "Epoch 49/100\n",
      "205/204 [==============================] - 41s 198ms/step - loss: 1.5665 - accuracy: 0.5802 - val_loss: 1.4022 - val_accuracy: 0.5899\n",
      "Epoch 50/100\n",
      "205/204 [==============================] - 41s 198ms/step - loss: 1.5554 - accuracy: 0.5789 - val_loss: 1.3301 - val_accuracy: 0.6125\n",
      "Epoch 51/100\n",
      "205/204 [==============================] - 41s 198ms/step - loss: 1.5370 - accuracy: 0.5848 - val_loss: 1.2532 - val_accuracy: 0.6350\n",
      "Epoch 52/100\n",
      "205/204 [==============================] - 41s 198ms/step - loss: 1.5135 - accuracy: 0.5808 - val_loss: 1.2726 - val_accuracy: 0.6408\n",
      "Epoch 53/100\n",
      "205/204 [==============================] - 41s 198ms/step - loss: 1.5043 - accuracy: 0.5905 - val_loss: 1.1972 - val_accuracy: 0.6518\n",
      "Epoch 54/100\n",
      "205/204 [==============================] - 41s 198ms/step - loss: 1.5115 - accuracy: 0.5872 - val_loss: 1.1941 - val_accuracy: 0.6552\n",
      "Epoch 55/100\n",
      "205/204 [==============================] - 41s 199ms/step - loss: 1.5098 - accuracy: 0.5850 - val_loss: 1.2036 - val_accuracy: 0.6436\n",
      "Epoch 56/100\n",
      "205/204 [==============================] - 41s 199ms/step - loss: 1.4607 - accuracy: 0.5950 - val_loss: 1.1881 - val_accuracy: 0.6549\n",
      "Epoch 57/100\n",
      "205/204 [==============================] - 41s 198ms/step - loss: 1.4701 - accuracy: 0.5996 - val_loss: 1.2790 - val_accuracy: 0.6253\n",
      "Epoch 58/100\n",
      "205/204 [==============================] - 41s 198ms/step - loss: 1.4473 - accuracy: 0.6027 - val_loss: 1.2507 - val_accuracy: 0.6353\n",
      "Epoch 59/100\n",
      "205/204 [==============================] - 41s 198ms/step - loss: 1.4399 - accuracy: 0.6056 - val_loss: 1.4698 - val_accuracy: 0.5624\n",
      "Epoch 60/100\n",
      "205/204 [==============================] - 41s 199ms/step - loss: 1.4352 - accuracy: 0.6032 - val_loss: 1.3470 - val_accuracy: 0.6060\n",
      "Epoch 61/100\n",
      "205/204 [==============================] - 41s 198ms/step - loss: 1.4210 - accuracy: 0.6090 - val_loss: 1.4245 - val_accuracy: 0.5795\n",
      "Epoch 62/100\n",
      "205/204 [==============================] - 41s 198ms/step - loss: 1.4134 - accuracy: 0.6123 - val_loss: 1.1413 - val_accuracy: 0.6643\n",
      "Epoch 63/100\n",
      "205/204 [==============================] - 41s 198ms/step - loss: 1.4024 - accuracy: 0.6163 - val_loss: 1.2876 - val_accuracy: 0.6167\n",
      "Epoch 64/100\n",
      "205/204 [==============================] - 41s 198ms/step - loss: 1.4155 - accuracy: 0.6104 - val_loss: 1.1839 - val_accuracy: 0.6570\n",
      "Epoch 65/100\n",
      "205/204 [==============================] - 41s 198ms/step - loss: 1.3937 - accuracy: 0.6133 - val_loss: 1.2068 - val_accuracy: 0.6390\n",
      "Epoch 66/100\n",
      "205/204 [==============================] - 41s 198ms/step - loss: 1.4053 - accuracy: 0.6112 - val_loss: 1.2295 - val_accuracy: 0.6359\n",
      "Epoch 67/100\n",
      "205/204 [==============================] - 41s 198ms/step - loss: 1.3875 - accuracy: 0.6192 - val_loss: 1.2953 - val_accuracy: 0.6198\n",
      "Epoch 68/100\n",
      "205/204 [==============================] - 41s 198ms/step - loss: 1.3612 - accuracy: 0.6246 - val_loss: 1.2345 - val_accuracy: 0.6381\n",
      "Epoch 69/100\n",
      "205/204 [==============================] - 41s 198ms/step - loss: 1.3587 - accuracy: 0.6239 - val_loss: 1.1004 - val_accuracy: 0.6878\n",
      "Epoch 70/100\n",
      "205/204 [==============================] - 41s 198ms/step - loss: 1.3651 - accuracy: 0.6255 - val_loss: 1.0709 - val_accuracy: 0.6860\n",
      "Epoch 71/100\n",
      "205/204 [==============================] - 41s 198ms/step - loss: 1.3667 - accuracy: 0.6180 - val_loss: 1.1247 - val_accuracy: 0.6698\n",
      "Epoch 72/100\n",
      "205/204 [==============================] - 41s 198ms/step - loss: 1.3464 - accuracy: 0.6278 - val_loss: 1.1001 - val_accuracy: 0.6726\n",
      "Epoch 73/100\n",
      "205/204 [==============================] - 41s 198ms/step - loss: 1.3494 - accuracy: 0.6265 - val_loss: 1.1618 - val_accuracy: 0.6634\n",
      "Epoch 74/100\n",
      "205/204 [==============================] - 41s 198ms/step - loss: 1.3237 - accuracy: 0.6316 - val_loss: 1.1513 - val_accuracy: 0.6540\n",
      "Epoch 75/100\n",
      "205/204 [==============================] - 41s 198ms/step - loss: 1.2972 - accuracy: 0.6363 - val_loss: 1.1164 - val_accuracy: 0.6793\n",
      "Epoch 76/100\n",
      "205/204 [==============================] - 41s 198ms/step - loss: 1.3178 - accuracy: 0.6363 - val_loss: 1.1718 - val_accuracy: 0.6655\n",
      "Epoch 77/100\n",
      "205/204 [==============================] - 41s 198ms/step - loss: 1.2955 - accuracy: 0.6403 - val_loss: 1.1098 - val_accuracy: 0.6802\n",
      "Epoch 78/100\n",
      "205/204 [==============================] - 41s 198ms/step - loss: 1.3198 - accuracy: 0.6280 - val_loss: 1.0668 - val_accuracy: 0.6915\n",
      "Epoch 79/100\n",
      "205/204 [==============================] - 41s 198ms/step - loss: 1.3041 - accuracy: 0.6355 - val_loss: 1.1160 - val_accuracy: 0.6790\n",
      "Epoch 80/100\n",
      "205/204 [==============================] - 41s 198ms/step - loss: 1.3144 - accuracy: 0.6355 - val_loss: 1.0999 - val_accuracy: 0.6832\n",
      "Epoch 81/100\n",
      "205/204 [==============================] - 41s 198ms/step - loss: 1.3000 - accuracy: 0.6378 - val_loss: 1.0751 - val_accuracy: 0.6802\n",
      "Epoch 82/100\n",
      "205/204 [==============================] - 41s 198ms/step - loss: 1.2834 - accuracy: 0.6406 - val_loss: 1.0353 - val_accuracy: 0.6970\n",
      "Epoch 83/100\n",
      "205/204 [==============================] - 41s 198ms/step - loss: 1.2828 - accuracy: 0.6430 - val_loss: 0.9914 - val_accuracy: 0.7144\n",
      "Epoch 84/100\n",
      "205/204 [==============================] - 41s 198ms/step - loss: 1.2609 - accuracy: 0.6535 - val_loss: 1.0913 - val_accuracy: 0.6729\n",
      "Epoch 85/100\n",
      "205/204 [==============================] - 41s 198ms/step - loss: 1.2706 - accuracy: 0.6467 - val_loss: 1.0951 - val_accuracy: 0.6808\n",
      "Epoch 86/100\n",
      "205/204 [==============================] - 41s 198ms/step - loss: 1.2651 - accuracy: 0.6481 - val_loss: 0.9981 - val_accuracy: 0.7040\n",
      "Epoch 87/100\n",
      "205/204 [==============================] - 41s 198ms/step - loss: 1.2570 - accuracy: 0.6492 - val_loss: 1.1234 - val_accuracy: 0.6771\n",
      "Epoch 88/100\n",
      "205/204 [==============================] - 41s 198ms/step - loss: 1.2531 - accuracy: 0.6526 - val_loss: 1.1632 - val_accuracy: 0.6616\n",
      "Epoch 89/100\n",
      "205/204 [==============================] - 41s 198ms/step - loss: 1.2559 - accuracy: 0.6514 - val_loss: 1.1345 - val_accuracy: 0.6567\n",
      "Epoch 90/100\n",
      "205/204 [==============================] - 41s 198ms/step - loss: 1.2436 - accuracy: 0.6545 - val_loss: 1.1460 - val_accuracy: 0.6717\n",
      "Epoch 91/100\n",
      "205/204 [==============================] - 41s 198ms/step - loss: 1.2696 - accuracy: 0.6429 - val_loss: 1.1097 - val_accuracy: 0.6741\n",
      "Epoch 92/100\n",
      "205/204 [==============================] - 41s 198ms/step - loss: 1.2391 - accuracy: 0.6506 - val_loss: 1.0545 - val_accuracy: 0.6897\n",
      "Epoch 93/100\n",
      "205/204 [==============================] - 40s 198ms/step - loss: 1.2200 - accuracy: 0.6570 - val_loss: 1.0905 - val_accuracy: 0.6817\n",
      "Epoch 94/100\n",
      "205/204 [==============================] - 41s 198ms/step - loss: 1.2305 - accuracy: 0.6576 - val_loss: 0.9786 - val_accuracy: 0.7150\n",
      "Epoch 95/100\n",
      "205/204 [==============================] - 41s 198ms/step - loss: 1.2403 - accuracy: 0.6581 - val_loss: 1.1254 - val_accuracy: 0.6655\n",
      "Epoch 96/100\n",
      "205/204 [==============================] - 41s 198ms/step - loss: 1.2182 - accuracy: 0.6612 - val_loss: 1.0045 - val_accuracy: 0.7058\n",
      "Epoch 97/100\n",
      "205/204 [==============================] - 41s 198ms/step - loss: 1.2127 - accuracy: 0.6616 - val_loss: 0.9810 - val_accuracy: 0.7080\n",
      "Epoch 98/100\n",
      "205/204 [==============================] - 41s 198ms/step - loss: 1.2304 - accuracy: 0.6538 - val_loss: 0.9564 - val_accuracy: 0.7193\n",
      "Epoch 99/100\n",
      "205/204 [==============================] - 41s 198ms/step - loss: 1.2362 - accuracy: 0.6555 - val_loss: 1.1453 - val_accuracy: 0.6594\n",
      "Epoch 100/100\n",
      "205/204 [==============================] - 41s 198ms/step - loss: 1.2074 - accuracy: 0.6628 - val_loss: 0.9555 - val_accuracy: 0.7284\n"
     ]
    }
   ],
   "source": [
    "# train\n",
    "history = model.fit(datagen.flow(X_train, y_train, batch_size = batch_size), \n",
    "            steps_per_epoch=len(X_train)/batch_size,\n",
    "            epochs=epochs,\n",
    "            validation_data = (X_val, y_val),\n",
    "            workers=4)"
   ]
  },
  {
   "cell_type": "code",
   "execution_count": null,
   "metadata": {
    "colab": {
     "base_uri": "https://localhost:8080/",
     "height": 301
    },
    "colab_type": "code",
    "id": "H4ukr0oYzmsa",
    "outputId": "63e5c656-43d2-4018-fb76-60882895c288"
   },
   "outputs": [
    {
     "name": "stdout",
     "output_type": "stream",
     "text": [
      "128/128 - 3s - loss: 0.9799 - accuracy: 0.7195\n"
     ]
    },
    {
     "data": {
      "image/png": "[encoded data removed]",
      "text/plain": [
       "<Figure size 432x288 with 1 Axes>"
      ]
     },
     "metadata": {
      "needs_background": "light",
      "tags": []
     },
     "output_type": "display_data"
    }
   ],
   "source": [
    "# validation accuracy와 accuracy를 비교하여 그래프로 표현해봄\n",
    "plt.plot(history.history['accuracy'], label='accuracy')\n",
    "plt.plot(history.history['val_accuracy'], label = 'val_accuracy')\n",
    "plt.xlabel('Epoch')\n",
    "plt.ylabel('Accuracy')\n",
    "plt.ylim([0.1, 1])\n",
    "plt.legend(loc='lower right')\n",
    "\n",
    "# test 데이터에 모델을 적용시켜 예측을 진행했을 때의 accuracy를 알아보게 함\n",
    "test_loss, test_acc = model.evaluate(X_test, y_test, verbose=2)"
   ]
  },
  {
   "cell_type": "code",
   "execution_count": null,
   "metadata": {
    "colab": {
     "base_uri": "https://localhost:8080/",
     "height": 35
    },
    "colab_type": "code",
    "id": "B5Sj78GFz6jS",
    "outputId": "283a6a5f-ee4d-4a6f-be24-c050383003e1"
   },
   "outputs": [
    {
     "name": "stdout",
     "output_type": "stream",
     "text": [
      "Saved trained model at ./trained_model2.h5 \n"
     ]
    }
   ],
   "source": [
    "# Save model and weights\n",
    "save_dir = ('./')\n",
    "model_name = 'trained_model2.h5'\n",
    "\n",
    "if not os.path.isdir(save_dir):\n",
    "    os.makedirs(save_dir)\n",
    "model_path = os.path.join('./', model_name)\n",
    "model.save(model_path)\n",
    "print('Saved trained model at %s ' % model_path)"
   ]
  },
  {
   "cell_type": "code",
   "execution_count": null,
   "metadata": {
    "colab": {},
    "colab_type": "code",
    "id": "96qm384akYqK"
   },
   "outputs": [],
   "source": []
  }
 ],
 "metadata": {
  "accelerator": "GPU",
  "colab": {
   "name": "handwritten_hangul.ipynb",
   "provenance": []
  },
  "kernelspec": {
   "display_name": "Python 3",
   "language": "python",
   "name": "python3"
  },
  "language_info": {
   "codemirror_mode": {
    "name": "ipython",
    "version": 3
   },
   "file_extension": ".py",
   "mimetype": "text/x-python",
   "name": "python",
   "nbconvert_exporter": "python",
   "pygments_lexer": "ipython3",
   "version": "3.7.0"
  }
 },
 "nbformat": 4,
 "nbformat_minor": 1
}
