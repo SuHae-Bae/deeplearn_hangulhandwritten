{
 "cells": [
  {
   "cell_type": "markdown",
   "metadata": {},
   "source": [
    "본 코드는 2020년 1학기 딥러닝 수업 중간프로젝트를 위한 Baseline code입니다.\n",
    "본 과제에서 제출을 해야 하는 파일은 아래 두가지 입니다.\n",
    "1. 모델의 weight를 저장한 .h5 파일(학번_trained_model.h5 형식)\n",
    "2. 모델을 생성하고 학습한 결과가 남아있는 ipython notebook 파일(학번_assignment_1.ipynb)\n",
    "\n",
    "baseline code는 아래와 같은 환경에서 구현되었습니다.\n",
    "1. python 3.6.8\n",
    "2. numpy==1.18.2\n",
    "3. six==1.14.0\n",
    "4. tensorflow==2.1.0\n",
    "5. matplotlib==3.2.1\n",
    "\n",
    "데이터셋\n",
    "아래 링크에서 다운받아 사용\n",
    "https://drive.google.com/file/d/1Y_1W27zZ46ex3Vym90ed2C-1ZU-nT8Xa/view?usp=sharing\n",
    "1. 32x32의 크기를 가지는 RGB(3채널) 이미지\n",
    "2. 데이터의 총 개수는 40000개\n",
    "3. 클래스의 개수는 100개\n",
    "4. 각 클래스별 400장의 이미지\n",
    "5. train, test, validation set은 구분되어 있지 않습니다. 필요시 직접 구현하여 사용"
   ]
  },
  {
   "cell_type": "code",
   "execution_count": 1,
   "metadata": {},
   "outputs": [],
   "source": [
    "# Config\n",
    "import tensorflow.keras as keras\n",
    "from tensorflow.keras.preprocessing.image import ImageDataGenerator\n",
    "from tensorflow.keras.models import Sequential\n",
    "from tensorflow.keras.layers import Activation, Dense, Flatten\n",
    "from tensorflow.keras.layers import Conv2D, MaxPooling2D, Dropout, ReLU\n",
    "import numpy as np\n",
    "import os\n",
    "import sys\n",
    "from six.moves import cPickle\n",
    "import matplotlib.pyplot as plt\n",
    "\n",
    "batch_size = 32\n",
    "num_classes = 100\n",
    "epochs = 30\n",
    "# Steps_per_epoch should typically be equal to the number of unique samples of your dataset divided by the batch size.\n",
    "steps_per_epoch = int(40000/batch_size)\n",
    "save_dir = os.path.join(os.getcwd(), 'saved_models')\n",
    "model_name = 'trained_model.h5'"
   ]
  },
  {
   "cell_type": "code",
   "execution_count": 2,
   "metadata": {
    "scrolled": true
   },
   "outputs": [
    {
     "name": "stdout",
     "output_type": "stream",
     "text": [
      "x_train shape: (40000, 32, 32, 3)\n",
      "40000 train samples\n"
     ]
    },
    {
     "data": {
      "image/png": "[encoded data removed]",
      "text/plain": [
       "<Figure size 432x288 with 1 Axes>"
      ]
     },
     "metadata": {},
     "output_type": "display_data"
    }
   ],
   "source": [
    "def load_data():\n",
    "    # Modify path string. use your path which your dataset is in\n",
    "    path = './data'\n",
    "\n",
    "    fpath = os.path.join(path, 'train_data')\n",
    "    \n",
    "    with open(fpath, 'rb') as f:\n",
    "        d = cPickle.load(f, encoding='bytes')\n",
    "        \n",
    "    X_train = d['data']\n",
    "    y_train = d['labels']\n",
    "    y_train = np.reshape(y_train, (len(y_train), 1))\n",
    "\n",
    "    return X_train, y_train\n",
    "\n",
    "x_train, y_train = load_data()\n",
    "\n",
    "# Check your data\n",
    "print('x_train shape:', x_train.shape)\n",
    "print(x_train.shape[0], 'train samples')\n",
    "plt.imshow(x_train[5])\n",
    "plt.show()"
   ]
  },
  {
   "cell_type": "code",
   "execution_count": 3,
   "metadata": {},
   "outputs": [],
   "source": [
    "# Basic preprocessing\n",
    "y_train = keras.utils.to_categorical(y_train, num_classes)\n",
    "x_train = x_train.astype('float32')\n",
    "x_train /= 255"
   ]
  },
  {
   "cell_type": "code",
   "execution_count": 4,
   "metadata": {
    "scrolled": true
   },
   "outputs": [
    {
     "name": "stdout",
     "output_type": "stream",
     "text": [
      "Train on 40000 samples\n",
      "Epoch 1/30\n",
      "40000/40000 [==============================] - 7s 175us/sample - loss: 3.9947 - accuracy: 0.1121\n",
      "Epoch 2/30\n",
      "40000/40000 [==============================] - 4s 95us/sample - loss: 3.6037 - accuracy: 0.1845\n",
      "Epoch 3/30\n",
      "40000/40000 [==============================] - 4s 95us/sample - loss: 3.4710 - accuracy: 0.2109\n",
      "Epoch 4/30\n",
      "40000/40000 [==============================] - 4s 94us/sample - loss: 3.3873 - accuracy: 0.2278\n",
      "Epoch 5/30\n",
      "40000/40000 [==============================] - 4s 94us/sample - loss: 3.3207 - accuracy: 0.2416\n",
      "Epoch 6/30\n",
      "40000/40000 [==============================] - 4s 94us/sample - loss: 3.2664 - accuracy: 0.2504\n",
      "Epoch 7/30\n",
      "40000/40000 [==============================] - 4s 91us/sample - loss: 3.2186 - accuracy: 0.2631\n",
      "Epoch 8/30\n",
      "40000/40000 [==============================] - 4s 92us/sample - loss: 3.1732 - accuracy: 0.2707\n",
      "Epoch 9/30\n",
      "40000/40000 [==============================] - 4s 94us/sample - loss: 3.1306 - accuracy: 0.2788\n",
      "Epoch 10/30\n",
      "40000/40000 [==============================] - 4s 93us/sample - loss: 3.0939 - accuracy: 0.2865\n",
      "Epoch 11/30\n",
      "40000/40000 [==============================] - 4s 93us/sample - loss: 3.0556 - accuracy: 0.2931\n",
      "Epoch 12/30\n",
      "40000/40000 [==============================] - 4s 90us/sample - loss: 3.0214 - accuracy: 0.3001\n",
      "Epoch 13/30\n",
      "40000/40000 [==============================] - 4s 91us/sample - loss: 2.9887 - accuracy: 0.3058\n",
      "Epoch 14/30\n",
      "40000/40000 [==============================] - 4s 91us/sample - loss: 2.9545 - accuracy: 0.3144\n",
      "Epoch 15/30\n",
      "40000/40000 [==============================] - 4s 89us/sample - loss: 2.9225 - accuracy: 0.3189\n",
      "Epoch 16/30\n",
      "40000/40000 [==============================] - 4s 90us/sample - loss: 2.8932 - accuracy: 0.3259\n",
      "Epoch 17/30\n",
      "40000/40000 [==============================] - 4s 89us/sample - loss: 2.8633 - accuracy: 0.3326\n",
      "Epoch 18/30\n",
      "40000/40000 [==============================] - 4s 90us/sample - loss: 2.8345 - accuracy: 0.3366\n",
      "Epoch 19/30\n",
      "40000/40000 [==============================] - 4s 90us/sample - loss: 2.8043 - accuracy: 0.3426\n",
      "Epoch 20/30\n",
      "40000/40000 [==============================] - 4s 91us/sample - loss: 2.7772 - accuracy: 0.3473\n",
      "Epoch 21/30\n",
      "40000/40000 [==============================] - 4s 90us/sample - loss: 2.7501 - accuracy: 0.3539\n",
      "Epoch 22/30\n",
      "40000/40000 [==============================] - 4s 89us/sample - loss: 2.7252 - accuracy: 0.3589\n",
      "Epoch 23/30\n",
      "40000/40000 [==============================] - 4s 88us/sample - loss: 2.6976 - accuracy: 0.3653\n",
      "Epoch 24/30\n",
      "40000/40000 [==============================] - 4s 89us/sample - loss: 2.6732 - accuracy: 0.3704\n",
      "Epoch 25/30\n",
      "40000/40000 [==============================] - 4s 89us/sample - loss: 2.6489 - accuracy: 0.3774\n",
      "Epoch 26/30\n",
      "40000/40000 [==============================] - 4s 90us/sample - loss: 2.6237 - accuracy: 0.3815\n",
      "Epoch 27/30\n",
      "40000/40000 [==============================] - 4s 91us/sample - loss: 2.5997 - accuracy: 0.3864\n",
      "Epoch 28/30\n",
      "40000/40000 [==============================] - 4s 90us/sample - loss: 2.5770 - accuracy: 0.3919\n",
      "Epoch 29/30\n",
      "40000/40000 [==============================] - 4s 91us/sample - loss: 2.5549 - accuracy: 0.3954\n",
      "Epoch 30/30\n",
      "40000/40000 [==============================] - 4s 90us/sample - loss: 2.5298 - accuracy: 0.4023\n",
      "Saved trained model at /home/ubuntu/changgeon/CIFAR/saved_models/trained_model.h5 \n"
     ]
    }
   ],
   "source": [
    "model = Sequential()\n",
    "model.add(Conv2D(50, (3, 3), padding='same',\n",
    "                 input_shape=x_train.shape[1:]))\n",
    "model.add(Flatten())\n",
    "model.add(Dense(100))\n",
    "model.add(Dense(100, activation='softmax'))\n",
    "\n",
    "opt = keras.optimizers.RMSprop(lr=0.0001, decay=1e-6)\n",
    "\n",
    "model.compile(loss='categorical_crossentropy',\n",
    "              optimizer=opt,\n",
    "              metrics=['accuracy'])\n",
    "\n",
    "# Train\n",
    "model.fit(x_train, y_train, \n",
    "            batch_size=batch_size,\n",
    "            epochs=epochs,\n",
    "            steps_per_epoch=steps_per_epoch,\n",
    "            workers=4)\n",
    "\n",
    "# Save model and weights\n",
    "if not os.path.isdir(save_dir):\n",
    "    os.makedirs(save_dir)\n",
    "model_path = os.path.join(save_dir, model_name)\n",
    "model.save(model_path)\n",
    "print('Saved trained model at %s ' % model_path)"
   ]
  }
 ],
 "metadata": {
  "kernelspec": {
   "display_name": "Python 3",
   "language": "python",
   "name": "python3"
  },
  "language_info": {
   "codemirror_mode": {
    "name": "ipython",
    "version": 3
   },
   "file_extension": ".py",
   "mimetype": "text/x-python",
   "name": "python",
   "nbconvert_exporter": "python",
   "pygments_lexer": "ipython3",
   "version": "3.7.0"
  }
 },
 "nbformat": 4,
 "nbformat_minor": 2
}
